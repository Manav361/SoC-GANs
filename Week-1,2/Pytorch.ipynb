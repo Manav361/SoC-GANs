{
 "cells": [
  {
   "cell_type": "code",
   "execution_count": 2,
   "id": "e0410d6f",
   "metadata": {},
   "outputs": [
    {
     "name": "stdout",
     "output_type": "stream",
     "text": [
      "tensor([[[9.8091e-45, 0.0000e+00, 1.1210e-44, 0.0000e+00],\n",
      "         [1.0000e+00, 1.0653e-38, 1.2952e-17, 9.3887e-43],\n",
      "         [1.4013e-45, 0.0000e+00, 0.0000e+00, 0.0000e+00]],\n",
      "\n",
      "        [[0.0000e+00, 0.0000e+00, 0.0000e+00, 0.0000e+00],\n",
      "         [9.8091e-45, 0.0000e+00, 1.1210e-44, 0.0000e+00],\n",
      "         [0.0000e+00, 0.0000e+00, 0.0000e+00, 0.0000e+00]]])\n"
     ]
    }
   ],
   "source": [
    "import torch\n",
    "x=torch.empty(2,3,4)\n",
    "print(x)"
   ]
  },
  {
   "cell_type": "code",
   "execution_count": 3,
   "id": "18c1f2d7",
   "metadata": {},
   "outputs": [
    {
     "name": "stdout",
     "output_type": "stream",
     "text": [
      "tensor([[0.1297, 0.9632, 0.2731],\n",
      "        [0.3155, 0.4850, 0.4071]])\n"
     ]
    }
   ],
   "source": [
    "print(torch.rand(2,3))"
   ]
  },
  {
   "cell_type": "code",
   "execution_count": 4,
   "id": "3f0362da",
   "metadata": {},
   "outputs": [
    {
     "name": "stdout",
     "output_type": "stream",
     "text": [
      "tensor([[0., 0., 0.],\n",
      "        [0., 0., 0.],\n",
      "        [0., 0., 0.]])\n"
     ]
    }
   ],
   "source": [
    "print(torch.zeros(3,3))"
   ]
  },
  {
   "cell_type": "code",
   "execution_count": 5,
   "id": "f586fe07",
   "metadata": {},
   "outputs": [
    {
     "name": "stdout",
     "output_type": "stream",
     "text": [
      "tensor([[1., 1., 1.],\n",
      "        [1., 1., 1.],\n",
      "        [1., 1., 1.]])\n"
     ]
    }
   ],
   "source": [
    "print(torch.ones(3,3))"
   ]
  },
  {
   "cell_type": "code",
   "execution_count": 6,
   "id": "573fca3d",
   "metadata": {},
   "outputs": [
    {
     "name": "stdout",
     "output_type": "stream",
     "text": [
      "torch.float32\n",
      "torch.int32\n",
      "torch.int64\n",
      "torch.Size([3, 3])\n"
     ]
    }
   ],
   "source": [
    "x=torch.ones(3,3)\n",
    "print(torch.ones(3,3).dtype)\n",
    "print(torch.ones(3,3,dtype=torch.int).dtype)\n",
    "print(torch.ones(3,3,dtype=int).dtype)\n",
    "print(x.size())"
   ]
  },
  {
   "cell_type": "code",
   "execution_count": 7,
   "id": "dc00d4eb",
   "metadata": {},
   "outputs": [
    {
     "name": "stdout",
     "output_type": "stream",
     "text": [
      "tensor([1.5000, 2.5000, 3.5000])\n"
     ]
    }
   ],
   "source": [
    "x=torch.tensor([1.5,2.5,3.5])\n",
    "print(x)"
   ]
  },
  {
   "cell_type": "code",
   "execution_count": 8,
   "id": "f13abec2",
   "metadata": {},
   "outputs": [
    {
     "name": "stdout",
     "output_type": "stream",
     "text": [
      "tensor([[0.2994, 0.9843],\n",
      "        [0.5459, 0.9243]]) tensor([[0.1548, 0.6238],\n",
      "        [0.4158, 0.3085]])\n",
      "tensor([[0.4542, 1.6081],\n",
      "        [0.9617, 1.2328]])\n",
      "tensor([[0.4542, 1.6081],\n",
      "        [0.9617, 1.2328]])\n",
      "tensor([[0.1360, 1.5828],\n",
      "        [0.5250, 1.1395]])\n",
      "tensor([[0.1360, 1.5828],\n",
      "        [0.5250, 1.1395]])\n",
      "tensor([[0.1360, 1.5828],\n",
      "        [0.5250, 1.1395]])\n",
      "tensor([[ 0.1634, -0.5985],\n",
      "        [ 0.0209, -0.2152]])\n"
     ]
    }
   ],
   "source": [
    "x=torch.rand(2,2)\n",
    "y=torch.rand(2,2)\n",
    "print(x,y)\n",
    "print(torch.add(x,y))\n",
    "print(y.add_(x))\n",
    "print(x*y)\n",
    "print(torch.mul(x,y))\n",
    "print(y.mul_(x))\n",
    "print(x-y)"
   ]
  },
  {
   "cell_type": "code",
   "execution_count": 9,
   "id": "76d94cc2",
   "metadata": {},
   "outputs": [
    {
     "name": "stdout",
     "output_type": "stream",
     "text": [
      "tensor([[0.4895, 0.3181, 0.9886],\n",
      "        [0.9403, 0.9109, 0.4829],\n",
      "        [0.8218, 0.3794, 0.9794]]) tensor(0.9109)\n",
      "tensor(0.9109)\n",
      "tensor([[0.3181, 0.9886],\n",
      "        [0.9109, 0.4829],\n",
      "        [0.3794, 0.9794]])\n",
      "tensor([[0.4895],\n",
      "        [0.9403],\n",
      "        [0.8218]])\n",
      "tensor([[0.3181, 0.9886],\n",
      "        [0.9109, 0.4829]])\n",
      "0.9109029173851013\n"
     ]
    }
   ],
   "source": [
    "x=torch.rand(3,3)\n",
    "print(x,x[1][1])\n",
    "print(x[1,1])\n",
    "print(x[:,1:])\n",
    "print(x[:,:1])\n",
    "print(x[0:2,1:3])\n",
    "print(x[1,1].item()) #exact value"
   ]
  },
  {
   "cell_type": "code",
   "execution_count": 10,
   "id": "9abefb4e",
   "metadata": {},
   "outputs": [
    {
     "name": "stdout",
     "output_type": "stream",
     "text": [
      "tensor([[0.1524, 0.0472, 0.8638, 0.7111],\n",
      "        [0.2106, 0.9653, 0.0542, 0.4019],\n",
      "        [0.7411, 0.9333, 0.4684, 0.9289],\n",
      "        [0.6719, 0.5349, 0.9960, 0.9427]])\n",
      "tensor([0.1524, 0.0472, 0.8638, 0.7111, 0.2106, 0.9653, 0.0542, 0.4019, 0.7411,\n",
      "        0.9333, 0.4684, 0.9289, 0.6719, 0.5349, 0.9960, 0.9427])\n",
      "tensor([[0.1524, 0.0472, 0.8638, 0.7111, 0.2106, 0.9653, 0.0542, 0.4019],\n",
      "        [0.7411, 0.9333, 0.4684, 0.9289, 0.6719, 0.5349, 0.9960, 0.9427]])\n",
      "torch.Size([2, 8])\n",
      "tensor([[0.1524, 0.0472, 0.8638, 0.7111],\n",
      "        [0.2106, 1.0000, 0.0542, 0.4019],\n",
      "        [0.7411, 0.9333, 0.4684, 0.9289],\n",
      "        [0.6719, 0.5349, 0.9960, 0.9427]])\n"
     ]
    }
   ],
   "source": [
    "x=torch.rand(4,4)\n",
    "print(x)\n",
    "y=x.view(16)\n",
    "print(y)\n",
    "y=x.view(-1,8)\n",
    "print(y)\n",
    "print(y.size())\n",
    "x[1][1]=1\n",
    "print(x)"
   ]
  },
  {
   "cell_type": "code",
   "execution_count": 11,
   "id": "99335962",
   "metadata": {},
   "outputs": [
    {
     "name": "stdout",
     "output_type": "stream",
     "text": [
      "tensor([[1., 1.],\n",
      "        [1., 1.]])\n",
      "<class 'torch.Tensor'>\n",
      "[[1. 1.]\n",
      " [1. 1.]]\n",
      "<class 'numpy.ndarray'>\n",
      "tensor([[2., 2.],\n",
      "        [2., 2.]]) [[2. 2.]\n",
      " [2. 2.]]\n",
      "[1. 1.] tensor([1., 1.], dtype=torch.float64)\n"
     ]
    }
   ],
   "source": [
    "import numpy as np\n",
    "a=torch.ones(2,2)\n",
    "print(a)\n",
    "print(type(a))\n",
    "b=a.numpy() #to get a numpy array\n",
    "print(b)\n",
    "print(type(b))\n",
    "a.add_(1)\n",
    "print(a,b) #a,b share the same memory location so both changes\n",
    "\n",
    "c=np.ones(2)\n",
    "d=torch.from_numpy(c)\n",
    "print(c,d)"
   ]
  },
  {
   "cell_type": "code",
   "execution_count": 12,
   "id": "b6057aa8",
   "metadata": {},
   "outputs": [
    {
     "name": "stdout",
     "output_type": "stream",
     "text": [
      "tensor([0.4386, 0.4606, 0.2109], requires_grad=True)\n",
      "tensor([2.4386, 2.4606, 2.2109], grad_fn=<AddBackward0>)\n",
      "tensor([11.8938, 12.1087,  9.7763], grad_fn=<MulBackward0>)\n",
      "tensor(11.2596, grad_fn=<MeanBackward0>)\n",
      "tensor([3.2515, 3.2807, 2.9479])\n"
     ]
    }
   ],
   "source": [
    "#Gradient Calculation using Autograd\n",
    "import torch\n",
    "x=torch.rand(3,requires_grad=True)\n",
    "print(x)\n",
    "y=x+2\n",
    "print(y)\n",
    "z=y*y*2\n",
    "print(z)\n",
    "z=z.mean()\n",
    "print(z)\n",
    "\n",
    "z.backward() #dz/dx\n",
    "print(x.grad)"
   ]
  },
  {
   "cell_type": "code",
   "execution_count": 13,
   "id": "424c92f4",
   "metadata": {},
   "outputs": [
    {
     "name": "stdout",
     "output_type": "stream",
     "text": [
      "tensor([0.7657, 0.5900, 0.4537], requires_grad=True)\n",
      "tensor([0.7657, 0.5900, 0.4537])\n",
      "tensor([0.7657, 0.5900, 0.4537])\n",
      "tensor([0.7657, 0.5900, 0.4537])\n"
     ]
    }
   ],
   "source": [
    "#x.requires_grad_(False)\n",
    "#x.detach()\n",
    "#with torch.no_grad():\n",
    "import torch\n",
    "x=torch.rand(3,requires_grad=True)\n",
    "print(x)\n",
    "x.requires_grad_(False)\n",
    "print(x)\n",
    "y=x.detach()\n",
    "print(y)\n",
    "with torch.no_grad():\n",
    "    y=x+2\n",
    "    print(x)"
   ]
  },
  {
   "cell_type": "code",
   "execution_count": 14,
   "id": "8cb92b2d",
   "metadata": {},
   "outputs": [
    {
     "name": "stdout",
     "output_type": "stream",
     "text": [
      "tensor([3., 3., 3.])\n",
      "tensor([6., 6., 6.])\n",
      "tensor([9., 9., 9.])\n",
      "tensor([12., 12., 12.])\n",
      "tensor([3., 3., 3.])\n",
      "tensor([3., 3., 3.])\n"
     ]
    }
   ],
   "source": [
    "weights=torch.ones(3,requires_grad=True)\n",
    "for _ in range(3):\n",
    "    model_output=(weights*3).sum()\n",
    "    model_output.backward()\n",
    "    print(weights.grad)#Since in every iteration previous' iterations value is used so not incorrectgradient is obtained\n",
    "    #weights.grad.zero_()  use this for correct gradient\n",
    "for _ in range(3):\n",
    "    model_output=(weights*3).sum()\n",
    "    model_output.backward()\n",
    "    print(weights.grad)\n",
    "    weights.grad.zero_()"
   ]
  },
  {
   "cell_type": "code",
   "execution_count": 15,
   "id": "99b1f1ea",
   "metadata": {},
   "outputs": [
    {
     "name": "stdout",
     "output_type": "stream",
     "text": [
      "tensor(-2.)\n",
      "tensor([ 0.1057,  0.3041, -0.0136])\n"
     ]
    }
   ],
   "source": [
    "#Basic Backpropagation\n",
    "\n",
    "x=torch.tensor(1.0)\n",
    "w=torch.tensor(1.0,requires_grad=True)\n",
    "y_hat=x*w\n",
    "y=torch.tensor(2.0)\n",
    "\n",
    "loss=(y_hat-y)**2\n",
    "loss.backward()\n",
    "print(w.grad)\n",
    "\n",
    "\n",
    "x=torch.rand(3)\n",
    "w=torch.rand(3,requires_grad=True)\n",
    "y_hat=x*w\n",
    "y=torch.rand(3)\n",
    "\n",
    "loss=(y_hat-y)**2\n",
    "v=torch.tensor([1,2,3])\n",
    "loss.backward(v)\n",
    "print(w.grad)"
   ]
  },
  {
   "cell_type": "code",
   "execution_count": 16,
   "id": "a7c7ee8f",
   "metadata": {},
   "outputs": [
    {
     "name": "stdout",
     "output_type": "stream",
     "text": [
      "0.0\n",
      "1.2 30.0\n",
      "1.68 4.799999\n",
      "1.8720000267028807 0.7680002\n",
      "1.948800024986267 0.12288\n",
      "1.9795200514793394 0.019660834\n",
      "1.9918079876899717 0.0031456952\n",
      "1.9967232251167295 0.00050332415\n",
      "1.9986893200874327 8.053186e-05\n",
      "1.9994757366180418 1.2884395e-05\n",
      "1.9997902917861936 2.0613531e-06\n",
      "9.998951458930968\n"
     ]
    }
   ],
   "source": [
    "#PREDICTION USING NUMPY \n",
    "import numpy as np\n",
    "\n",
    "x=np.array([1,2,3,4],dtype=np.float32)\n",
    "y=np.array([2,4,6,8],dtype=np.float32)\n",
    "\n",
    "w=0.0\n",
    "def forward(x):\n",
    "    return w*x\n",
    "\n",
    "def loss(y,y_predicted):\n",
    "    return ((y_predicted-y)**2).mean()\n",
    "\n",
    "#loss=1/N(wx-y)^2\n",
    "#dloss/dw=2x/N(wx-y)\n",
    "def gradient(x,y,y_predicted):\n",
    "    return np.dot(2*x,(y_predicted-y)).mean()\n",
    "\n",
    "print(forward(5))\n",
    "\n",
    "learning_rate=0.01\n",
    "\n",
    "for _ in range(10):\n",
    "    y_pred=forward(x)\n",
    "    l=loss(y,y_pred)\n",
    "    grad=gradient(x,y,y_pred)\n",
    "    w-= (learning_rate*grad)\n",
    "    if _%1==0:\n",
    "        print(w,l)\n",
    "    \n",
    "print(forward(5))"
   ]
  },
  {
   "cell_type": "code",
   "execution_count": 17,
   "id": "88db9f12",
   "metadata": {},
   "outputs": [
    {
     "name": "stdout",
     "output_type": "stream",
     "text": [
      "tensor(0., grad_fn=<MulBackward0>)\n",
      "tensor(0.3000, requires_grad=True) tensor(30., grad_fn=<MeanBackward0>)\n",
      "tensor(0.5550, requires_grad=True) tensor(21.6750, grad_fn=<MeanBackward0>)\n",
      "tensor(0.7717, requires_grad=True) tensor(15.6602, grad_fn=<MeanBackward0>)\n",
      "tensor(0.9560, requires_grad=True) tensor(11.3145, grad_fn=<MeanBackward0>)\n",
      "tensor(1.1126, requires_grad=True) tensor(8.1747, grad_fn=<MeanBackward0>)\n",
      "tensor(1.2457, requires_grad=True) tensor(5.9062, grad_fn=<MeanBackward0>)\n",
      "tensor(1.3588, requires_grad=True) tensor(4.2673, grad_fn=<MeanBackward0>)\n",
      "tensor(1.4550, requires_grad=True) tensor(3.0831, grad_fn=<MeanBackward0>)\n",
      "tensor(1.5368, requires_grad=True) tensor(2.2275, grad_fn=<MeanBackward0>)\n",
      "tensor(1.6063, requires_grad=True) tensor(1.6094, grad_fn=<MeanBackward0>)\n",
      "tensor(1.6653, requires_grad=True) tensor(1.1628, grad_fn=<MeanBackward0>)\n",
      "tensor(1.7155, requires_grad=True) tensor(0.8401, grad_fn=<MeanBackward0>)\n",
      "tensor(1.7582, requires_grad=True) tensor(0.6070, grad_fn=<MeanBackward0>)\n",
      "tensor(1.7945, requires_grad=True) tensor(0.4385, grad_fn=<MeanBackward0>)\n",
      "tensor(1.8253, requires_grad=True) tensor(0.3168, grad_fn=<MeanBackward0>)\n",
      "tensor(1.8515, requires_grad=True) tensor(0.2289, grad_fn=<MeanBackward0>)\n",
      "tensor(1.8738, requires_grad=True) tensor(0.1654, grad_fn=<MeanBackward0>)\n",
      "tensor(1.8927, requires_grad=True) tensor(0.1195, grad_fn=<MeanBackward0>)\n",
      "tensor(1.9088, requires_grad=True) tensor(0.0863, grad_fn=<MeanBackward0>)\n",
      "tensor(1.9225, requires_grad=True) tensor(0.0624, grad_fn=<MeanBackward0>)\n",
      "tensor(1.9341, requires_grad=True) tensor(0.0451, grad_fn=<MeanBackward0>)\n",
      "tensor(1.9440, requires_grad=True) tensor(0.0326, grad_fn=<MeanBackward0>)\n",
      "tensor(1.9524, requires_grad=True) tensor(0.0235, grad_fn=<MeanBackward0>)\n",
      "tensor(1.9595, requires_grad=True) tensor(0.0170, grad_fn=<MeanBackward0>)\n",
      "tensor(1.9656, requires_grad=True) tensor(0.0123, grad_fn=<MeanBackward0>)\n",
      "tensor(1.9708, requires_grad=True) tensor(0.0089, grad_fn=<MeanBackward0>)\n",
      "tensor(1.9751, requires_grad=True) tensor(0.0064, grad_fn=<MeanBackward0>)\n",
      "tensor(1.9789, requires_grad=True) tensor(0.0046, grad_fn=<MeanBackward0>)\n",
      "tensor(1.9820, requires_grad=True) tensor(0.0033, grad_fn=<MeanBackward0>)\n",
      "tensor(1.9847, requires_grad=True) tensor(0.0024, grad_fn=<MeanBackward0>)\n",
      "tensor(1.9870, requires_grad=True) tensor(0.0017, grad_fn=<MeanBackward0>)\n",
      "tensor(1.9890, requires_grad=True) tensor(0.0013, grad_fn=<MeanBackward0>)\n",
      "tensor(1.9906, requires_grad=True) tensor(0.0009, grad_fn=<MeanBackward0>)\n",
      "tensor(1.9920, requires_grad=True) tensor(0.0007, grad_fn=<MeanBackward0>)\n",
      "tensor(1.9932, requires_grad=True) tensor(0.0005, grad_fn=<MeanBackward0>)\n",
      "tensor(1.9942, requires_grad=True) tensor(0.0003, grad_fn=<MeanBackward0>)\n",
      "tensor(1.9951, requires_grad=True) tensor(0.0002, grad_fn=<MeanBackward0>)\n",
      "tensor(1.9958, requires_grad=True) tensor(0.0002, grad_fn=<MeanBackward0>)\n",
      "tensor(1.9965, requires_grad=True) tensor(0.0001, grad_fn=<MeanBackward0>)\n",
      "tensor(1.9970, requires_grad=True) tensor(9.3711e-05, grad_fn=<MeanBackward0>)\n",
      "tensor(1.9974, requires_grad=True) tensor(6.7705e-05, grad_fn=<MeanBackward0>)\n",
      "tensor(1.9978, requires_grad=True) tensor(4.8915e-05, grad_fn=<MeanBackward0>)\n",
      "tensor(1.9982, requires_grad=True) tensor(3.5344e-05, grad_fn=<MeanBackward0>)\n",
      "tensor(1.9984, requires_grad=True) tensor(2.5533e-05, grad_fn=<MeanBackward0>)\n",
      "tensor(1.9987, requires_grad=True) tensor(1.8447e-05, grad_fn=<MeanBackward0>)\n",
      "tensor(1.9989, requires_grad=True) tensor(1.3329e-05, grad_fn=<MeanBackward0>)\n",
      "tensor(1.9990, requires_grad=True) tensor(9.6315e-06, grad_fn=<MeanBackward0>)\n",
      "tensor(1.9992, requires_grad=True) tensor(6.9583e-06, grad_fn=<MeanBackward0>)\n",
      "tensor(1.9993, requires_grad=True) tensor(5.0274e-06, grad_fn=<MeanBackward0>)\n",
      "tensor(1.9994, requires_grad=True) tensor(3.6323e-06, grad_fn=<MeanBackward0>)\n",
      "tensor(1.9995, requires_grad=True) tensor(2.6244e-06, grad_fn=<MeanBackward0>)\n",
      "tensor(1.9996, requires_grad=True) tensor(1.8964e-06, grad_fn=<MeanBackward0>)\n",
      "tensor(1.9996, requires_grad=True) tensor(1.3699e-06, grad_fn=<MeanBackward0>)\n",
      "tensor(1.9997, requires_grad=True) tensor(9.8946e-07, grad_fn=<MeanBackward0>)\n",
      "tensor(1.9997, requires_grad=True) tensor(7.1485e-07, grad_fn=<MeanBackward0>)\n",
      "tensor(1.9998, requires_grad=True) tensor(5.1689e-07, grad_fn=<MeanBackward0>)\n",
      "tensor(1.9998, requires_grad=True) tensor(3.7350e-07, grad_fn=<MeanBackward0>)\n",
      "tensor(1.9998, requires_grad=True) tensor(2.6975e-07, grad_fn=<MeanBackward0>)\n",
      "tensor(1.9999, requires_grad=True) tensor(1.9482e-07, grad_fn=<MeanBackward0>)\n",
      "tensor(1.9999, requires_grad=True) tensor(1.4073e-07, grad_fn=<MeanBackward0>)\n",
      "tensor(1.9999, requires_grad=True) tensor(1.0176e-07, grad_fn=<MeanBackward0>)\n",
      "tensor(1.9999, requires_grad=True) tensor(7.3389e-08, grad_fn=<MeanBackward0>)\n",
      "tensor(1.9999, requires_grad=True) tensor(5.3154e-08, grad_fn=<MeanBackward0>)\n",
      "tensor(1.9999, requires_grad=True) tensor(3.8369e-08, grad_fn=<MeanBackward0>)\n",
      "tensor(1.9999, requires_grad=True) tensor(2.7700e-08, grad_fn=<MeanBackward0>)\n",
      "tensor(2.0000, requires_grad=True) tensor(2.0094e-08, grad_fn=<MeanBackward0>)\n",
      "tensor(2.0000, requires_grad=True) tensor(1.4520e-08, grad_fn=<MeanBackward0>)\n",
      "tensor(2.0000, requires_grad=True) tensor(1.0522e-08, grad_fn=<MeanBackward0>)\n",
      "tensor(2.0000, requires_grad=True) tensor(7.5924e-09, grad_fn=<MeanBackward0>)\n",
      "tensor(2.0000, requires_grad=True) tensor(5.4872e-09, grad_fn=<MeanBackward0>)\n",
      "tensor(2.0000, requires_grad=True) tensor(3.9742e-09, grad_fn=<MeanBackward0>)\n",
      "tensor(2.0000, requires_grad=True) tensor(2.8666e-09, grad_fn=<MeanBackward0>)\n",
      "tensor(2.0000, requires_grad=True) tensor(2.0563e-09, grad_fn=<MeanBackward0>)\n",
      "tensor(2.0000, requires_grad=True) tensor(1.4790e-09, grad_fn=<MeanBackward0>)\n",
      "tensor(2.0000, requires_grad=True) tensor(1.0658e-09, grad_fn=<MeanBackward0>)\n",
      "tensor(2.0000, requires_grad=True) tensor(7.7187e-10, grad_fn=<MeanBackward0>)\n",
      "tensor(2.0000, requires_grad=True) tensor(5.5252e-10, grad_fn=<MeanBackward0>)\n",
      "tensor(2.0000, requires_grad=True) tensor(3.9789e-10, grad_fn=<MeanBackward0>)\n",
      "tensor(2.0000, requires_grad=True) tensor(2.8820e-10, grad_fn=<MeanBackward0>)\n",
      "tensor(2.0000, requires_grad=True) tensor(2.0634e-10, grad_fn=<MeanBackward0>)\n",
      "tensor(2.0000, requires_grad=True) tensor(1.4670e-10, grad_fn=<MeanBackward0>)\n",
      "tensor(2.0000, requires_grad=True) tensor(1.0177e-10, grad_fn=<MeanBackward0>)\n",
      "tensor(2.0000, requires_grad=True) tensor(7.3172e-11, grad_fn=<MeanBackward0>)\n",
      "tensor(2.0000, requires_grad=True) tensor(5.0662e-11, grad_fn=<MeanBackward0>)\n",
      "tensor(2.0000, requires_grad=True) tensor(3.8074e-11, grad_fn=<MeanBackward0>)\n",
      "tensor(2.0000, requires_grad=True) tensor(2.7285e-11, grad_fn=<MeanBackward0>)\n",
      "tensor(2.0000, requires_grad=True) tensor(2.0307e-11, grad_fn=<MeanBackward0>)\n",
      "tensor(2.0000, requires_grad=True) tensor(1.5348e-11, grad_fn=<MeanBackward0>)\n",
      "tensor(2.0000, requires_grad=True) tensor(1.1099e-11, grad_fn=<MeanBackward0>)\n",
      "tensor(2.0000, requires_grad=True) tensor(6.8212e-12, grad_fn=<MeanBackward0>)\n",
      "tensor(2.0000, requires_grad=True) tensor(5.0768e-12, grad_fn=<MeanBackward0>)\n",
      "tensor(2.0000, requires_grad=True) tensor(3.5953e-12, grad_fn=<MeanBackward0>)\n",
      "tensor(2.0000, requires_grad=True) tensor(2.7747e-12, grad_fn=<MeanBackward0>)\n",
      "tensor(2.0000, requires_grad=True) tensor(1.7053e-12, grad_fn=<MeanBackward0>)\n",
      "tensor(2.0000, requires_grad=True) tensor(8.9884e-13, grad_fn=<MeanBackward0>)\n",
      "tensor(2.0000, requires_grad=True) tensor(8.9884e-13, grad_fn=<MeanBackward0>)\n",
      "tensor(2.0000, requires_grad=True) tensor(8.9884e-13, grad_fn=<MeanBackward0>)\n",
      "tensor(2.0000, requires_grad=True) tensor(8.9884e-13, grad_fn=<MeanBackward0>)\n",
      "tensor(2.0000, requires_grad=True) tensor(8.9884e-13, grad_fn=<MeanBackward0>)\n",
      "tensor(2.0000, requires_grad=True) tensor(8.9884e-13, grad_fn=<MeanBackward0>)\n",
      "tensor(10.0000, grad_fn=<MulBackward0>)\n"
     ]
    }
   ],
   "source": [
    "#PREDICTION USING TORCH\n",
    "import torch\n",
    "\n",
    "x=torch.tensor([1,2,3,4],dtype=torch.float32)\n",
    "y=torch.tensor([2,4,6,8],dtype=torch.float32)\n",
    "\n",
    "w=torch.tensor(0.0,dtype=torch.float32,requires_grad=True)\n",
    "\n",
    "def forward(x):\n",
    "    return w*x\n",
    "\n",
    "def loss(y,y_predicted):\n",
    "    return ((y_predicted-y)**2).mean()\n",
    "\n",
    "print(forward(5))\n",
    "\n",
    "learning_rate=0.01\n",
    "\n",
    "for _ in range(100):\n",
    "    y_pred=forward(x)\n",
    "    l=loss(y,y_pred)\n",
    "    l.backward()\n",
    "    with torch.no_grad():\n",
    "        w-= (learning_rate*w.grad)\n",
    "    \n",
    "    w.grad.zero_()\n",
    "    if _%1==0:\n",
    "        print(w,l)\n",
    "    \n",
    "print(forward(5))"
   ]
  },
  {
   "cell_type": "code",
   "execution_count": 17,
   "id": "3c16c293",
   "metadata": {},
   "outputs": [
    {
     "name": "stdout",
     "output_type": "stream",
     "text": [
      "4 1\n",
      "2.5401053428649902\n",
      "2.5315637588500977 tensor(15.1816, grad_fn=<MseLossBackward0>)\n",
      "1.984716773033142 tensor(0.0004, grad_fn=<MseLossBackward0>)\n",
      "1.9992685317993164 tensor(8.2055e-07, grad_fn=<MseLossBackward0>)\n",
      "1.999964952468872 tensor(1.8796e-09, grad_fn=<MseLossBackward0>)\n",
      "1.9999983310699463 tensor(4.2064e-12, grad_fn=<MseLossBackward0>)\n",
      "1.9999998807907104 tensor(1.4211e-14, grad_fn=<MseLossBackward0>)\n",
      "2.0 tensor(0., grad_fn=<MseLossBackward0>)\n",
      "2.0 tensor(0., grad_fn=<MseLossBackward0>)\n",
      "2.0 tensor(0., grad_fn=<MseLossBackward0>)\n",
      "2.0 tensor(0., grad_fn=<MseLossBackward0>)\n",
      "10.0\n"
     ]
    }
   ],
   "source": [
    "#PREDICTION USING TORCH including optimization\n",
    "\n",
    "import torch\n",
    "import torch.nn as nn #module for neural networks\n",
    "\n",
    "x=torch.tensor([[1],[2],[3],[4]],dtype=torch.float32)\n",
    "y=torch.tensor([[2],[4],[6],[8]],dtype=torch.float32)\n",
    "x_test=torch.tensor([5],dtype=torch.float32)\n",
    "\n",
    "n_samples,n_features=x.shape\n",
    "print(n_samples,n_features)\n",
    "input_size=n_features\n",
    "output_size=n_features\n",
    "\n",
    "model=nn.Linear(input_size,output_size)\n",
    "print(model(x_test).item())\n",
    "\n",
    "learning_rate=0.1\n",
    "loss=nn.MSELoss()\n",
    "optimizer=torch.optim.SGD(model.parameters(),lr=learning_rate)\n",
    "\n",
    "for _ in range(1000):\n",
    "    y_pred=model(x)\n",
    "    l=loss(y,y_pred)\n",
    "    l.backward()\n",
    "    optimizer.step()\n",
    "    optimizer.zero_grad()\n",
    "    if _%100==0:\n",
    "        [w,b]=model.parameters()\n",
    "        print(w[0][0].item(),l)\n",
    "    \n",
    "print(model(x_test).item())"
   ]
  },
  {
   "cell_type": "code",
   "execution_count": null,
   "id": "62bbe51c",
   "metadata": {},
   "outputs": [],
   "source": []
  },
  {
   "cell_type": "code",
   "execution_count": null,
   "id": "47ccea13",
   "metadata": {},
   "outputs": [],
   "source": []
  }
 ],
 "metadata": {
  "kernelspec": {
   "display_name": "Python 3 (ipykernel)",
   "language": "python",
   "name": "python3"
  },
  "language_info": {
   "codemirror_mode": {
    "name": "ipython",
    "version": 3
   },
   "file_extension": ".py",
   "mimetype": "text/x-python",
   "name": "python",
   "nbconvert_exporter": "python",
   "pygments_lexer": "ipython3",
   "version": "3.10.9"
  }
 },
 "nbformat": 4,
 "nbformat_minor": 5
}
